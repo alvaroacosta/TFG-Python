{
 "cells": [
  {
   "cell_type": "code",
   "execution_count": 2,
   "metadata": {},
   "outputs": [],
   "source": [
    "import numpy as np"
   ]
  },
  {
   "cell_type": "markdown",
   "metadata": {},
   "source": [
    "#### Parseo de los elementos del archivo carrays"
   ]
  },
  {
   "cell_type": "code",
   "execution_count": 3,
   "metadata": {},
   "outputs": [
    {
     "name": "stdout",
     "output_type": "stream",
     "text": [
      "[['0x08', '0x00', '0x27', '0x18', '0x24', '0xcf', '0x08', '0x00'], ['0x27', '0x15', '0x84', '0x47', '0x08', '0x00', '0x45', '0x00'], ['0x00', '0x54', '0xd1', '0x9f', '0x40', '0x00', '0x40', '0x01'], ['0xe5', '0xb5', '0xc0', '0xa8', '0x01', '0x01', '0xc0', '0xa8'], ['0x01', '0x02', '0x08', '0x00', '0x32', '0xa5', '0x08', '0x52'], ['0x00', '0x01', '0xb2', '0xff', '0x6e', '0x5c', '0xac', '0xa8'], ['0x04', '0x00', '0x08', '0x09', '0x0a', '0x0b', '0x0c', '0x0d'], ['0x0e', '0x0f', '0x10', '0x11', '0x12', '0x13', '0x14', '0x15'], ['0x16', '0x17', '0x18', '0x19', '0x1a', '0x1b', '0x1c', '0x1d'], ['0x1e', '0x1f', '0x20', '0x21', '0x22', '0x23', '0x24', '0x25'], ['0x26', '0x27', '0x28', '0x29', '0x2a', '0x2b', '0x2c', '0x2d'], ['0x2e', '0x2f', '0x30', '0x31', '0x32', '0x33', '0x34', '0x35'], ['0x36', '0x37', None, None, None, None, None, None]]\n"
     ]
    }
   ],
   "source": [
    "f = open(\"carrays\", \"r\") #Abrimos el documento generado\n",
    "frame = f.readline() #Leemos la primera linea\n",
    "principal = f.readline() #Leemos la descripción del paquete\n",
    "\n",
    "nbytes = frame[10]+frame[11] #Obtenemos el número de bytes de la primera línea\n",
    "nbytes = int(nbytes) #Convertimos el número a entero\n",
    "\n",
    "ncolumnas = 8 #El número de columnas siempre es 8\n",
    "nfilas = int(nbytes/ncolumnas) #Dividimos entre el numero de columnas para obtener el número de filas\n",
    "\n",
    "if (nbytes%8 != 0): #Si el numero de bytes no es multiplo de 8, le añadimos una fila más\n",
    "    nfilas += 1\n",
    "\n",
    "#Iniciamos la matriz a none, para que tenga un valor\n",
    "matriz = [None] * nfilas #Iniciamos la matriz, con el número de filas \n",
    "for i in range(nfilas): #Completamos con el número de columnas\n",
    "    matriz[i] = [None]*ncolumnas\n",
    "\n",
    "\n",
    "i=0\n",
    "#Bucle para obtener todos los datos del datagrama\n",
    "for linea in f:\n",
    "    j=0 #Inicializamos j al comenzar la fila\n",
    "    for caracter in linea.split(', '):\n",
    "        if (j < 8):\n",
    "            matriz[i][j] = caracter[0:4] #Para que coja solamente los 4 caracteres que queremos (se usa para el último caso sobre todo)\n",
    "            j+=1 #Incrementamos numero de columnas\n",
    "\n",
    "    i+=1 #Incrementamos numero de filas\n",
    "    if(i==nfilas): #Si el numero de filas es igual al limite, paramos la lectura\n",
    "        break\n",
    "print (matriz)####CHIVATO\n",
    "end = f.readline() #Cogemos el }; final\n",
    "f.readline()#Salto de línea\n",
    "\n",
    "\n",
    "f.close()"
   ]
  },
  {
   "cell_type": "markdown",
   "metadata": {},
   "source": [
    "#### Separación de cabeceras y elementos del datagrama"
   ]
  },
  {
   "cell_type": "code",
   "execution_count": 13,
   "metadata": {},
   "outputs": [
    {
     "name": "stdout",
     "output_type": "stream",
     "text": [
      "['0x08', '0x00', '0x27', '0x18', '0x24', '0xcf']\n",
      "['0x08', '0x00', '0x27', '0x15', '0x84', '0x47']\n",
      "['0x08', '0x00']\n",
      "['0x45', '0x00', '0x00', '0x54', '0xd1', '0x9f', '0x40', '0x00', '0x40', '0x01', '0xe5', '0xb5']\n",
      "['0xc0', '0xa8', '0x01', '0x01']\n",
      "['0xc0', '0xa8', '0x01', '0x02']\n",
      "['0x08']\n",
      "['0x00']\n",
      "['0x32']\n",
      "['0xa5', '0x08']\n"
     ]
    }
   ],
   "source": [
    "contador = 0\n",
    "macdest = []\n",
    "macorig = []\n",
    "tipo = []\n",
    "cabip = []\n",
    "ipdest = []\n",
    "iporig = []\n",
    "iptype = []\n",
    "icmptype = []\n",
    "icmpcode = []\n",
    "icmpchecksum = []\n",
    "i = 0\n",
    "for i in range(nfilas):\n",
    "    j = 0\n",
    "    for j in range(ncolumnas):\n",
    "        if contador < 6:\n",
    "            macdest.append(matriz[i][j])\n",
    "        elif contador < 12: \n",
    "            macorig.append(matriz[i][j])\n",
    "        elif contador < 14:  \n",
    "            tipo.append(matriz[i][j])\n",
    "        elif contador < 26:\n",
    "            cabip.append(matriz[i][j])\n",
    "        elif contador < 30:\n",
    "            ipdest.append(matriz[i][j])\n",
    "        elif contador < 34:\n",
    "            iporig.append(matriz[i][j])\n",
    "        elif contador < 35:\n",
    "            iptype.append(matriz[i][j])\n",
    "        elif contador < 36:\n",
    "            icmptype.append(matriz[i][j])\n",
    "        elif contador < 37:\n",
    "            icmpcode.append(matriz[i][j])\n",
    "        elif contador < 39:\n",
    "            icmpchecksum.append(matriz[i][j])\n",
    "        else:\n",
    "            break\n",
    "        contador += 1\n",
    "print (macdest)\n",
    "print (macorig)\n",
    "print (tipo)\n",
    "print (cabip)\n",
    "print (ipdest)\n",
    "print (iporig)\n",
    "print (iptype)\n",
    "print (icmptype)\n",
    "print (icmpcode)\n",
    "print (icmpchecksum)"
   ]
  },
  {
   "cell_type": "code",
   "execution_count": null,
   "metadata": {},
   "outputs": [],
   "source": []
  }
 ],
 "metadata": {
  "kernelspec": {
   "display_name": "Python 3",
   "language": "python",
   "name": "python3"
  },
  "language_info": {
   "codemirror_mode": {
    "name": "ipython",
    "version": 3
   },
   "file_extension": ".py",
   "mimetype": "text/x-python",
   "name": "python",
   "nbconvert_exporter": "python",
   "pygments_lexer": "ipython3",
   "version": "3.6.5"
  }
 },
 "nbformat": 4,
 "nbformat_minor": 2
}
